{
 "cells": [
  {
   "cell_type": "code",
   "execution_count": 1,
   "id": "503c819d-3669-46ec-904d-f5030624fd3f",
   "metadata": {},
   "outputs": [],
   "source": [
    "import os,textwrap\n",
    "import requests\n",
    "from bs4 import BeautifulSoup\n",
    "from IPython.display import Markdown,display\n",
    "from dotenv import load_dotenv\n",
    "from openai import OpenAI\n",
    "load_dotenv()\n",
    "api_key = os.getenv(\"OPENAI_API_KEY\")\n",
    "assert api_key and len(api_key)> 20,\"Missing/Invalid OPEN_API_KEY\"\n",
    "client = OpenAI(api_key = api_key)\n"
   ]
  },
  {
   "cell_type": "code",
   "execution_count": 2,
   "id": "f05feeee-d571-4a29-b660-c04c54a73668",
   "metadata": {},
   "outputs": [],
   "source": [
    "class Website:\n",
    "    def __init__(self, url : str):\n",
    "        self.url = url\n",
    "        r = requests.get(url,timeout = 20)\n",
    "        r.raise_for_status()\n",
    "        soup = BeautifulSoup(r.text,\"html.parser\")\n",
    "        for tag in soup([\"script\", \"style\", \"noscript\", \"img\", \"input\"]):\n",
    "            tag.decompose()\n",
    "\n",
    "        self.title = (soup.title.string or \"\").strip() if soup.title else \"\"\n",
    "        self.text = \" \".join(soup.get_text(\" \").split())\n",
    "\n",
    "def summarize(website: Website, bullets: int = 6):\n",
    "    prompt = f\"\"\"\n",
    "    You are a helpful assistant. Summarize the page at {website.url}.\n",
    "    Return Markdown with a short intro + {bullets} bullet highlights.\n",
    "    If sections are obvious, include headings. Keep it concise for beginners.\n",
    "    Page title: {website.title or \"N/A\"}\n",
    "    Page text:\n",
    "    {website.text[:12000]}  # safety truncate\n",
    "    \"\"\"\n",
    "    resp = client.chat.completions.create(\n",
    "        model=\"gpt-4o-mini\",  # lightweight GPT-4-class model; name may vary\n",
    "        messages=[{\"role\": \"user\", \"content\": prompt}],\n",
    "        temperature=0.2,\n",
    "    )\n",
    "    return resp.choices[0].message.content\n",
    "\n",
    "def show_markdown(md: str):\n",
    "    display(Markdown(md))\n"
   ]
  },
  {
   "cell_type": "code",
   "execution_count": null,
   "id": "22dca5c0-800b-499c-945c-5fc3c60fb048",
   "metadata": {},
   "outputs": [],
   "source": [
    "\n",
    "site = Website(\"https://www.w3schools.com/\")\n",
    "md = summarize(site)\n",
    "show_markdown(md)\n"
   ]
  }
 ],
 "metadata": {
  "kernelspec": {
   "display_name": "Python 3 (ipykernel)",
   "language": "python",
   "name": "python3"
  },
  "language_info": {
   "codemirror_mode": {
    "name": "ipython",
    "version": 3
   },
   "file_extension": ".py",
   "mimetype": "text/x-python",
   "name": "python",
   "nbconvert_exporter": "python",
   "pygments_lexer": "ipython3",
   "version": "3.11.13"
  }
 },
 "nbformat": 4,
 "nbformat_minor": 5
}
